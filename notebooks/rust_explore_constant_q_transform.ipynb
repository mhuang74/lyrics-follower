{
 "cells": [
  {
   "cell_type": "markdown",
   "id": "52a9c844",
   "metadata": {},
   "source": [
    "# Load WAV file and perform CQT"
   ]
  },
  {
   "cell_type": "code",
   "execution_count": 274,
   "id": "3d098438",
   "metadata": {},
   "outputs": [],
   "source": [
    "// use std::fmt::Debug;"
   ]
  },
  {
   "cell_type": "code",
   "execution_count": 275,
   "id": "0c2026d5",
   "metadata": {},
   "outputs": [],
   "source": [
    ":dep hound = \"3.5\"\n",
    ":dep cqt-rs = \"0.1.0\"\n",
    ":dep ndarray = \"0.15\"\n",
    ":dep image = \"0.24\"\n",
    ":dep imageproc = \"0.23\""
   ]
  },
  {
   "cell_type": "code",
   "execution_count": 276,
   "id": "9e905585",
   "metadata": {},
   "outputs": [],
   "source": [
    "\n",
    "use hound;\n",
    "use cqt_rs::{CQTParams, Cqt};\n",
    "use ndarray::Array2;\n",
    "use image::{ImageBuffer, Rgb};\n",
    "use imageproc::drawing::draw_filled_rect_mut;\n",
    "use imageproc::rect::Rect;"
   ]
  },
  {
   "cell_type": "code",
   "execution_count": 277,
   "id": "7b248950",
   "metadata": {},
   "outputs": [
    {
     "name": "stdout",
     "output_type": "stream",
     "text": [
      "\".DS_Store\"\n",
      "\"face.wav\"\n",
      "\"rust_explore_constant_q_transform.ipynb\"\n",
      "\"cmajor.wav\"\n",
      "\"face.png\"\n",
      "\"output.png\"\n",
      "\".ipynb_checkpoints\"\n"
     ]
    },
    {
     "data": {
      "text/plain": [
       "()"
      ]
     },
     "execution_count": 277,
     "metadata": {},
     "output_type": "execute_result"
    }
   ],
   "source": [
    "use std::fs;\n",
    "\n",
    "\n",
    "for entry in fs::read_dir(\".\").unwrap() {\n",
    "    println!(\"{:?}\", entry.unwrap().file_name())\n",
    "}\n",
    "\n"
   ]
  },
  {
   "cell_type": "code",
   "execution_count": 278,
   "id": "4fd45256",
   "metadata": {},
   "outputs": [],
   "source": [
    "\n",
    "\n",
    "let mut reader = hound::WavReader::open(\"face.wav\").unwrap();\n"
   ]
  },
  {
   "cell_type": "code",
   "execution_count": 279,
   "id": "0d0f9211",
   "metadata": {},
   "outputs": [
    {
     "name": "stdout",
     "output_type": "stream",
     "text": [
      "wav spec: WavSpec { channels: 1, sample_rate: 44100, bits_per_sample: 24, sample_format: Int }, wav duration: 352800\n"
     ]
    },
    {
     "data": {
      "text/plain": [
       "()"
      ]
     },
     "execution_count": 279,
     "metadata": {},
     "output_type": "execute_result"
    }
   ],
   "source": [
    "println!(\"wav spec: {:?}, wav duration: {:?}\", reader.spec(), reader.duration())"
   ]
  },
  {
   "cell_type": "code",
   "execution_count": 280,
   "id": "613c9dfe",
   "metadata": {},
   "outputs": [
    {
     "name": "stdout",
     "output_type": "stream",
     "text": [
      "Sampling Rate: 44100\n"
     ]
    }
   ],
   "source": [
    "let sampling_rate:usize = reader.spec().sample_rate as usize;\n",
    "\n",
    "println!(\"Sampling Rate: {}\", sampling_rate);"
   ]
  },
  {
   "cell_type": "code",
   "execution_count": 281,
   "id": "c9fb9f9c",
   "metadata": {
    "scrolled": true
   },
   "outputs": [],
   "source": [
    "let samples: Vec<i32> = reader.samples::<i32>().map(|s| s.unwrap()).collect();"
   ]
  },
  {
   "cell_type": "code",
   "execution_count": 282,
   "id": "b25a9577",
   "metadata": {},
   "outputs": [
    {
     "name": "stdout",
     "output_type": "stream",
     "text": [
      "sample size: 352800\n"
     ]
    }
   ],
   "source": [
    "println!(\"sample size: {}\", samples.len());"
   ]
  },
  {
   "cell_type": "code",
   "execution_count": 283,
   "id": "8e551c32",
   "metadata": {},
   "outputs": [
    {
     "name": "stdout",
     "output_type": "stream",
     "text": [
      "sample duration in sec: 8\n"
     ]
    }
   ],
   "source": [
    "let duration:f32 = samples.len() as f32 / sampling_rate as f32;\n",
    "\n",
    "println!(\"sample duration in sec: {}\", duration);"
   ]
  },
  {
   "cell_type": "markdown",
   "id": "04e56bfe",
   "metadata": {},
   "source": [
    "### Convert i32 to f32"
   ]
  },
  {
   "cell_type": "code",
   "execution_count": 284,
   "id": "10e437a0",
   "metadata": {},
   "outputs": [],
   "source": [
    "let input_signal: Vec<f32> = samples.iter().map(|&x| x as f32).collect();; // Your input audio signal"
   ]
  },
  {
   "cell_type": "markdown",
   "id": "2a4778d2",
   "metadata": {},
   "source": [
    "## Constant Q Transform via CQT"
   ]
  },
  {
   "cell_type": "code",
   "execution_count": 285,
   "id": "beeece29",
   "metadata": {},
   "outputs": [],
   "source": [
    "let cqt_params = CQTParams::new(\n",
    "    100.0, // Min frequency\n",
    "    20000.0_f32, // Max frequency\n",
    "    25, // Number of bins\n",
    "    sampling_rate, // Sampling rate\n",
    "    sampling_rate/28 // Window length\n",
    ").expect(\"Error creating CQTParams\");"
   ]
  },
  {
   "cell_type": "code",
   "execution_count": 286,
   "id": "17f615e1",
   "metadata": {},
   "outputs": [],
   "source": [
    "let cqt = Cqt::new(cqt_params);"
   ]
  },
  {
   "cell_type": "code",
   "execution_count": 287,
   "id": "0e65a884",
   "metadata": {},
   "outputs": [],
   "source": [
    "let cqt_features:Array2<f32> = cqt.process(&input_signal, 1600).expect(\"Error computing CQT features\");"
   ]
  },
  {
   "cell_type": "code",
   "execution_count": 288,
   "id": "c1485eee",
   "metadata": {},
   "outputs": [
    {
     "data": {
      "text/plain": [
       "[220, 200]"
      ]
     },
     "execution_count": 288,
     "metadata": {},
     "output_type": "execute_result"
    }
   ],
   "source": [
    "&cqt_features.shape()"
   ]
  },
  {
   "cell_type": "markdown",
   "id": "63967698",
   "metadata": {},
   "source": [
    "##  Function to Convert CQT results into image"
   ]
  },
  {
   "cell_type": "code",
   "execution_count": 289,
   "id": "417abb17",
   "metadata": {},
   "outputs": [],
   "source": [
    "fn visualize_array2_as_image(input: &Array2<f32>, filename: &str) -> Result<(), Box<dyn std::error::Error>> {\n",
    "    \n",
    "    // Convert to DB value by taking log10 and times 20\n",
    "    let array = input.mapv(f32::abs).mapv(f32::log10).mapv(|val| val * 20.0);\n",
    "    \n",
    "    // Normalize the values in the array to the [0, 255] range for visualization\n",
    "    let min_val = array.iter().copied().reduce(f32::min).unwrap();\n",
    "    let max_val = array.iter().copied().reduce(f32::max).unwrap();\n",
    "    println!(\"min: {}, max: {}\", min_val, max_val);\n",
    "    \n",
    "    let normalized_array = (255.0 * (array.to_owned().mapv(|x| (x - min_val) / (max_val - min_val)))).mapv(|x| x as u8);\n",
    "\n",
    "    \n",
    "    // Create an image buffer from the 2D array\n",
    "    let width = normalized_array.shape()[0] as u32;\n",
    "    let height = normalized_array.shape()[1] as u32;\n",
    "    let mut img = ImageBuffer::new(width as u32, height as u32);\n",
    "\n",
    "    // Fill the image buffer with pixel values\n",
    "    for (x, y, pixel) in img.enumerate_pixels_mut() {\n",
    "        let val = normalized_array[[x as usize, (height-1_u32-y) as usize]];\n",
    "        *pixel = Rgb([val, 30, 30])\n",
    "    }\n",
    "\n",
    "\n",
    "    // Save the image to the specified filename\n",
    "    img.save(filename)?;\n",
    "\n",
    "    Ok(())\n",
    "}"
   ]
  },
  {
   "cell_type": "code",
   "execution_count": 290,
   "id": "a7b632b6",
   "metadata": {},
   "outputs": [
    {
     "name": "stdout",
     "output_type": "stream",
     "text": [
      "min: 115.41423, max: 275.99924\n"
     ]
    }
   ],
   "source": [
    "visualize_array2_as_image(&cqt_features, \"output.png\").unwrap();\n"
   ]
  },
  {
   "cell_type": "code",
   "execution_count": null,
   "id": "85d4687f",
   "metadata": {},
   "outputs": [],
   "source": []
  }
 ],
 "metadata": {
  "kernelspec": {
   "display_name": "Rust",
   "language": "rust",
   "name": "rust"
  },
  "language_info": {
   "codemirror_mode": "rust",
   "file_extension": ".rs",
   "mimetype": "text/rust",
   "name": "Rust",
   "pygment_lexer": "rust",
   "version": ""
  }
 },
 "nbformat": 4,
 "nbformat_minor": 5
}
